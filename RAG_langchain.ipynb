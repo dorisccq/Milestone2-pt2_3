{
 "cells": [
  {
   "cell_type": "markdown",
   "metadata": {},
   "source": [
    "## Data Cleaning"
   ]
  },
  {
   "cell_type": "code",
   "execution_count": 1,
   "metadata": {},
   "outputs": [],
   "source": [
    "import pandas as pd"
   ]
  },
  {
   "cell_type": "code",
   "execution_count": 18,
   "metadata": {},
   "outputs": [
    {
     "data": {
      "text/html": [
       "<div>\n",
       "<style scoped>\n",
       "    .dataframe tbody tr th:only-of-type {\n",
       "        vertical-align: middle;\n",
       "    }\n",
       "\n",
       "    .dataframe tbody tr th {\n",
       "        vertical-align: top;\n",
       "    }\n",
       "\n",
       "    .dataframe thead th {\n",
       "        text-align: right;\n",
       "    }\n",
       "</style>\n",
       "<table border=\"1\" class=\"dataframe\">\n",
       "  <thead>\n",
       "    <tr style=\"text-align: right;\">\n",
       "      <th></th>\n",
       "      <th>id</th>\n",
       "      <th>title</th>\n",
       "      <th>story</th>\n",
       "    </tr>\n",
       "  </thead>\n",
       "  <tbody>\n",
       "    <tr>\n",
       "      <th>0</th>\n",
       "      <td>1</td>\n",
       "      <td>Write an Adventure Story</td>\n",
       "      <td>Far across the sea, on the distant shores of A...</td>\n",
       "    </tr>\n",
       "    <tr>\n",
       "      <th>1</th>\n",
       "      <td>2</td>\n",
       "      <td>Write an Adventure Story</td>\n",
       "      <td>Far across the sea, on the distant shores of A...</td>\n",
       "    </tr>\n",
       "    <tr>\n",
       "      <th>2</th>\n",
       "      <td>3</td>\n",
       "      <td>Write an Adventure Story</td>\n",
       "      <td>High atop the snow-capped peaks of Mount Evere...</td>\n",
       "    </tr>\n",
       "    <tr>\n",
       "      <th>3</th>\n",
       "      <td>4</td>\n",
       "      <td>Write an Adventure Story</td>\n",
       "      <td>In the sprawling metropolis of New Arcadia, wh...</td>\n",
       "    </tr>\n",
       "    <tr>\n",
       "      <th>4</th>\n",
       "      <td>5</td>\n",
       "      <td>Write an Adventure Story</td>\n",
       "      <td>In the vast expanse of the Wildlands, where un...</td>\n",
       "    </tr>\n",
       "    <tr>\n",
       "      <th>5</th>\n",
       "      <td>6</td>\n",
       "      <td>Write an Adventure Story</td>\n",
       "      <td>In the shadow of the towering peaks of Mount V...</td>\n",
       "    </tr>\n",
       "    <tr>\n",
       "      <th>6</th>\n",
       "      <td>7</td>\n",
       "      <td>Write an Adventure Story</td>\n",
       "      <td>In the heart of the sprawling desert, where th...</td>\n",
       "    </tr>\n",
       "    <tr>\n",
       "      <th>7</th>\n",
       "      <td>8</td>\n",
       "      <td>Write an Adventure Story</td>\n",
       "      <td>In the mist-shrouded realm of Avaloria, where ...</td>\n",
       "    </tr>\n",
       "    <tr>\n",
       "      <th>8</th>\n",
       "      <td>9</td>\n",
       "      <td>Write an Adventure Story</td>\n",
       "      <td>In the rugged mountains of the North, where sn...</td>\n",
       "    </tr>\n",
       "    <tr>\n",
       "      <th>9</th>\n",
       "      <td>10</td>\n",
       "      <td>Write an Adventure Story</td>\n",
       "      <td>In the heart of the untamed jungle, where the ...</td>\n",
       "    </tr>\n",
       "  </tbody>\n",
       "</table>\n",
       "</div>"
      ],
      "text/plain": [
       "   id                     title  \\\n",
       "0   1  Write an Adventure Story   \n",
       "1   2  Write an Adventure Story   \n",
       "2   3  Write an Adventure Story   \n",
       "3   4  Write an Adventure Story   \n",
       "4   5  Write an Adventure Story   \n",
       "5   6  Write an Adventure Story   \n",
       "6   7  Write an Adventure Story   \n",
       "7   8  Write an Adventure Story   \n",
       "8   9  Write an Adventure Story   \n",
       "9  10  Write an Adventure Story   \n",
       "\n",
       "                                               story  \n",
       "0  Far across the sea, on the distant shores of A...  \n",
       "1  Far across the sea, on the distant shores of A...  \n",
       "2  High atop the snow-capped peaks of Mount Evere...  \n",
       "3  In the sprawling metropolis of New Arcadia, wh...  \n",
       "4  In the vast expanse of the Wildlands, where un...  \n",
       "5  In the shadow of the towering peaks of Mount V...  \n",
       "6  In the heart of the sprawling desert, where th...  \n",
       "7  In the mist-shrouded realm of Avaloria, where ...  \n",
       "8  In the rugged mountains of the North, where sn...  \n",
       "9  In the heart of the untamed jungle, where the ...  "
      ]
     },
     "execution_count": 18,
     "metadata": {},
     "output_type": "execute_result"
    }
   ],
   "source": [
    "df = pd.read_csv(\"hf://datasets/ShehryarAzhar/stories/stories_dataset.csv\")\n",
    "df.head(10)"
   ]
  },
  {
   "cell_type": "code",
   "execution_count": 4,
   "metadata": {},
   "outputs": [],
   "source": [
    "def write_stories_to_txt(df, output_file):\n",
    "    # Open the output file in write mode\n",
    "    with open(output_file, 'w') as f:\n",
    "        # Group the dataframe by 'title' (story type)\n",
    "        grouped = df.groupby('title')\n",
    "        \n",
    "        # Loop through each story type and its corresponding stories\n",
    "        for story_type, stories in grouped:\n",
    "            # Write the story type as a heading\n",
    "            f.write(f\"{story_type}\\n\")\n",
    "            f.write(\"=\" * len(story_type) + \"\\n\")  # Adding a separator line\n",
    "            \n",
    "            # Loop through all stories under this story type and write them\n",
    "            for story in stories['story']:\n",
    "                f.write(f\"{story}\\n\\n\")  # Add a new line after each story\n",
    "            \n",
    "            # Add a couple of blank lines between different story types\n",
    "            f.write(\"\\n\\n\")\n",
    "\n",
    "    print(f\"Stories have been written to {output_file}\")"
   ]
  },
  {
   "cell_type": "code",
   "execution_count": 5,
   "metadata": {},
   "outputs": [
    {
     "name": "stdout",
     "output_type": "stream",
     "text": [
      "Stories have been written to stories.txt\n"
     ]
    }
   ],
   "source": [
    "write_stories_to_txt(df, \"stories.txt\")"
   ]
  },
  {
   "cell_type": "markdown",
   "metadata": {},
   "source": [
    "## RAG"
   ]
  },
  {
   "cell_type": "code",
   "execution_count": 6,
   "metadata": {},
   "outputs": [],
   "source": [
    "from langchain_openai import ChatOpenAI\n",
    "from langchain_core.prompts import ChatPromptTemplate\n",
    "from langchain_core.output_parsers import StrOutputParser\n",
    "\n",
    "from langchain_community.document_loaders import TextLoader #load the document\n",
    "from langchain_text_splitters import RecursiveCharacterTextSplitter #for creating chunks from the loaded document\n",
    "from langchain_openai import OpenAIEmbeddings #for converting chunks into embeddings\n",
    "from langchain_chroma import Chroma #database for stroring the embeddings"
   ]
  },
  {
   "cell_type": "code",
   "execution_count": 7,
   "metadata": {},
   "outputs": [
    {
     "data": {
      "text/plain": [
       "True"
      ]
     },
     "execution_count": 7,
     "metadata": {},
     "output_type": "execute_result"
    }
   ],
   "source": [
    "from dotenv import load_dotenv\n",
    "load_dotenv()"
   ]
  },
  {
   "cell_type": "code",
   "execution_count": 8,
   "metadata": {},
   "outputs": [
    {
     "name": "stdout",
     "output_type": "stream",
     "text": [
      "/Users/caochunqin/Desktop/githomework/milestone2_pt2/chroma_db\n"
     ]
    }
   ],
   "source": [
    "import os\n",
    "dir = os.getcwd()\n",
    "db_dir = os.path.join(dir,\"chroma_db\")\n",
    "print(db_dir)"
   ]
  },
  {
   "cell_type": "markdown",
   "metadata": {},
   "source": [
    "### Create vector DB"
   ]
  },
  {
   "cell_type": "code",
   "execution_count": 19,
   "metadata": {},
   "outputs": [],
   "source": [
    "#Read the text content from the .txt file and load it as langchain document\n",
    "loader = TextLoader('stories.txt')\n",
    "document = loader.load()"
   ]
  },
  {
   "cell_type": "code",
   "execution_count": 20,
   "metadata": {},
   "outputs": [
    {
     "name": "stdout",
     "output_type": "stream",
     "text": [
      "Document chunk info:\n",
      "\n",
      "Number of document chunks: 3990\n",
      "Sample chunk: \n",
      "In the bustling city of Bustleton, where the traffic never seemed to move and the pigeons had perfected synchronized flying, lived a man named Bob. Bob had a peculiar talent—he could never seem to find his socks.  Every morning, Bob would rummage through his dresser drawers in search of a matching pair of socks, only to emerge with one polka-dotted sock and one striped sock. No matter how many times he bought new socks or organized his drawers, the socks seemed to vanish into thin air.  One day, in a fit of frustration, Bob decided to take matters into his own hands. He set up a surveillance camera in his bedroom to catch the elusive sock thief in action. But when he reviewed the footage the next morning, he discovered the culprit—his mischievous pet cat, Whiskers, who had been hoarding Bob's socks under the bed.  With a bemused smile, Bob realized that his sock-stealing cat was just another quirky aspect of life in Bustleton, where even the most mundane tasks could turn into comedic\n",
      "\n"
     ]
    }
   ],
   "source": [
    "#Split the document into chunks using text splitters \n",
    "text_splitter = RecursiveCharacterTextSplitter(chunk_size=1000, chunk_overlap=200)\n",
    "chunks = text_splitter.split_documents(document)\n",
    "\n",
    "print(\"Document chunk info:\\n\")\n",
    "print(f\"Number of document chunks: {len(chunks)}\")\n",
    "print(f\"Sample chunk: \\n{chunks[3].page_content}\\n\")"
   ]
  },
  {
   "cell_type": "code",
   "execution_count": 11,
   "metadata": {},
   "outputs": [],
   "source": [
    "#create embeddings using openAI embeddings\n",
    "embeddings = OpenAIEmbeddings(\n",
    "    model=\"text-embedding-3-small\"\n",
    ")"
   ]
  },
  {
   "cell_type": "code",
   "execution_count": 12,
   "metadata": {},
   "outputs": [
    {
     "data": {
      "text/plain": [
       "<langchain_chroma.vectorstores.Chroma at 0x1068b8e00>"
      ]
     },
     "execution_count": 12,
     "metadata": {},
     "output_type": "execute_result"
    }
   ],
   "source": [
    "#store the embeddings and chunks into Chroma DB\n",
    "Chroma.from_documents(documents=chunks, embedding=embeddings, persist_directory=db_dir)"
   ]
  },
  {
   "cell_type": "markdown",
   "metadata": {},
   "source": [
    "### Retrieve and generate"
   ]
  },
  {
   "cell_type": "code",
   "execution_count": 13,
   "metadata": {},
   "outputs": [],
   "source": [
    "#setting up the DB for retrieval\n",
    "embeddings_used = OpenAIEmbeddings(model=\"text-embedding-3-small\")\n",
    "vectorDB = Chroma(persist_directory=db_dir,embedding_function=embeddings_used)"
   ]
  },
  {
   "cell_type": "code",
   "execution_count": 14,
   "metadata": {},
   "outputs": [],
   "source": [
    "#setting up Retriver\n",
    "retriever = vectorDB.as_retriever(search_type=\"similarity\", search_kwargs={\"k\": 3})"
   ]
  },
  {
   "cell_type": "code",
   "execution_count": 15,
   "metadata": {},
   "outputs": [],
   "source": [
    "def getRetriever(dir):\n",
    "    \"\"\"\n",
    "    dir is the directory of the vector DB\n",
    "    \"\"\"\n",
    "    embeddings_used = OpenAIEmbeddings(model=\"text-embedding-3-small\")\n",
    "    vectorDB = Chroma(persist_directory=dir,embedding_function=embeddings_used)\n",
    "    retriever = vectorDB.as_retriever(search_type=\"similarity\", search_kwargs={\"k\": 3})\n",
    "    return retriever"
   ]
  },
  {
   "cell_type": "code",
   "execution_count": 16,
   "metadata": {},
   "outputs": [],
   "source": [
    "def textGeneration_langChain_RAG(msg,type,retrieverDir):\n",
    "    \"\"\"\n",
    "    msg is the scenario for the story from the pic (hugging face model output);\n",
    "    type is the genre of the story- Horror, Fantasy, Adventure, Comedy, Mystery, Romance\n",
    "    retriever is the vector DB with relevant stories from txt version of \n",
    "        stories dataset from Hugging face - https://huggingface.co/datasets/ShehryarAzhar/stories\n",
    "    \"\"\"\n",
    "    llm = ChatOpenAI(\n",
    "            model=\"gpt-4o\",\n",
    "            temperature=0.2,\n",
    "            max_tokens=200,\n",
    "            timeout=None,\n",
    "            max_retries=2\n",
    "        )\n",
    "\n",
    "    system_prompt = (\n",
    "        \"You are an expert short {story_type} story teller. \" \n",
    "        \"Use the following pieces of retrieved context to generate {story_type} story. \"\n",
    "        \"Use a simple narrative structure to generate {story_type} story based on the given scenario\"\n",
    "        \"keep the story to less than 200 words.\"\n",
    "        \"\\n\\n\"\n",
    "        \"{context}\"\n",
    "    )\n",
    "\n",
    "    prompt = ChatPromptTemplate.from_messages(\n",
    "        [\n",
    "            (\"system\", system_prompt),\n",
    "            (\"human\", \"{scenario_lang}\"),\n",
    "        ]\n",
    "    )\n",
    "\n",
    "    rag_chain = prompt | llm | StrOutputParser()\n",
    "\n",
    "    retriever = getRetriever(retrieverDir)\n",
    "\n",
    "    out_message = rag_chain.invoke({\n",
    "            \"story_type\" : type,\n",
    "            \"context\":retriever,\n",
    "            \"scenario_lang\" : msg,\n",
    "        })\n",
    "    \n",
    "    return out_message"
   ]
  },
  {
   "cell_type": "code",
   "execution_count": 17,
   "metadata": {},
   "outputs": [
    {
     "name": "stdout",
     "output_type": "stream",
     "text": [
      "In the heart of the town stood an ancient library, its towering bookshelves filled with volumes of every color imaginable. Each book seemed to pulse with a life of its own, their spines glowing faintly in the dim light.\n",
      "\n",
      "One stormy evening, a curious young woman named Elara found herself drawn to the library. As she wandered through the aisles, she noticed a peculiar pattern: the books seemed to be arranged not by author or genre, but by the color of their spines. Intrigued, she reached for a vibrant crimson book, its cover cold to the touch.\n",
      "\n",
      "The moment she opened it, the room darkened, and a chilling wind swept through the library. The words on the pages began to swirl and rise, forming a ghostly figure before her. It was the spirit of a long-forgotten librarian, trapped within the pages for centuries.\n",
      "\n",
      "\"You have awakened me,\" the specter whispered, its voice echoing through the aisles. \"Now, you\n"
     ]
    }
   ],
   "source": [
    "scenario = \"bookshelves with many different colored books on them in a library\" #example output from huggingface model\n",
    "story = textGeneration_langChain_RAG(scenario,\"Horror\", db_dir)\n",
    "print(story)"
   ]
  }
 ],
 "metadata": {
  "kernelspec": {
   "display_name": ".venv",
   "language": "python",
   "name": "python3"
  },
  "language_info": {
   "codemirror_mode": {
    "name": "ipython",
    "version": 3
   },
   "file_extension": ".py",
   "mimetype": "text/x-python",
   "name": "python",
   "nbconvert_exporter": "python",
   "pygments_lexer": "ipython3",
   "version": "3.12.4"
  }
 },
 "nbformat": 4,
 "nbformat_minor": 2
}
