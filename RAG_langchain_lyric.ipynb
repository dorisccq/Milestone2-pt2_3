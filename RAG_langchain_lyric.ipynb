{
 "cells": [
  {
   "cell_type": "markdown",
   "metadata": {},
   "source": [
    "## Data Cleaning"
   ]
  },
  {
   "cell_type": "code",
   "execution_count": 1,
   "metadata": {},
   "outputs": [],
   "source": [
    "import pandas as pd"
   ]
  },
  {
   "cell_type": "code",
   "execution_count": 2,
   "metadata": {},
   "outputs": [
    {
     "name": "stderr",
     "output_type": "stream",
     "text": [
      "/Users/caochunqin/Desktop/githomework/milestone2_pt2/.venv/lib/python3.12/site-packages/tqdm/auto.py:21: TqdmWarning: IProgress not found. Please update jupyter and ipywidgets. See https://ipywidgets.readthedocs.io/en/stable/user_install.html\n",
      "  from .autonotebook import tqdm as notebook_tqdm\n"
     ]
    },
    {
     "data": {
      "text/html": [
       "<div>\n",
       "<style scoped>\n",
       "    .dataframe tbody tr th:only-of-type {\n",
       "        vertical-align: middle;\n",
       "    }\n",
       "\n",
       "    .dataframe tbody tr th {\n",
       "        vertical-align: top;\n",
       "    }\n",
       "\n",
       "    .dataframe thead th {\n",
       "        text-align: right;\n",
       "    }\n",
       "</style>\n",
       "<table border=\"1\" class=\"dataframe\">\n",
       "  <thead>\n",
       "    <tr style=\"text-align: right;\">\n",
       "      <th></th>\n",
       "      <th>Prompt</th>\n",
       "      <th>Lyric</th>\n",
       "      <th>Context</th>\n",
       "    </tr>\n",
       "  </thead>\n",
       "  <tbody>\n",
       "    <tr>\n",
       "      <th>0</th>\n",
       "      <td>Song lyric in the style of Dua Lipa.</td>\n",
       "      <td>one one one one one talkin' in my sleep at nig...</td>\n",
       "      <td>New Rules from the album Dua Lipa</td>\n",
       "    </tr>\n",
       "    <tr>\n",
       "      <th>1</th>\n",
       "      <td>Song lyric in the style of Dua Lipa.</td>\n",
       "      <td>if you don't wanna see me did a full 80 crazy ...</td>\n",
       "      <td>Don’t Start Now from the album Future Nostalgia</td>\n",
       "    </tr>\n",
       "    <tr>\n",
       "      <th>2</th>\n",
       "      <td>Song lyric in the style of Dua Lipa.</td>\n",
       "      <td>you call me all friendly tellin' me how much y...</td>\n",
       "      <td>IDGAF from the album Dua Lipa</td>\n",
       "    </tr>\n",
       "    <tr>\n",
       "      <th>3</th>\n",
       "      <td>Song lyric in the style of Dua Lipa.</td>\n",
       "      <td>i know it's hot i know we've got something tha...</td>\n",
       "      <td>Blow Your Mind (Mwah) from the album Dua Lipa</td>\n",
       "    </tr>\n",
       "    <tr>\n",
       "      <th>4</th>\n",
       "      <td>Song lyric in the style of Dua Lipa.</td>\n",
       "      <td>i see the moon i see the moon i see the moon o...</td>\n",
       "      <td>Be the One from the album Dua Lipa</td>\n",
       "    </tr>\n",
       "    <tr>\n",
       "      <th>5</th>\n",
       "      <td>Song lyric in the style of Dua Lipa.</td>\n",
       "      <td>i've always been the one to say the first good...</td>\n",
       "      <td>Break My Heart from the album Future Nostalgia</td>\n",
       "    </tr>\n",
       "    <tr>\n",
       "      <th>6</th>\n",
       "      <td>Song lyric in the style of Dua Lipa.</td>\n",
       "      <td>here where the sky's falling i'm covered in b...</td>\n",
       "      <td>Homesick from the album Dua Lipa</td>\n",
       "    </tr>\n",
       "    <tr>\n",
       "      <th>7</th>\n",
       "      <td>Song lyric in the style of Dua Lipa.</td>\n",
       "      <td>if you wanna run away with me i know a galaxy ...</td>\n",
       "      <td>Levitating from the album Future Nostalgia</td>\n",
       "    </tr>\n",
       "    <tr>\n",
       "      <th>8</th>\n",
       "      <td>Song lyric in the style of Dua Lipa.</td>\n",
       "      <td>common love isn't for us we created something ...</td>\n",
       "      <td>Physical from the album Future Nostalgia</td>\n",
       "    </tr>\n",
       "    <tr>\n",
       "      <th>9</th>\n",
       "      <td>Song lyric in the style of Dua Lipa.</td>\n",
       "      <td>ah yeah ah yeah he calls me the devil i make h...</td>\n",
       "      <td>Hotter Than Hell from the album Dua Lipa</td>\n",
       "    </tr>\n",
       "  </tbody>\n",
       "</table>\n",
       "</div>"
      ],
      "text/plain": [
       "                                 Prompt  \\\n",
       "0  Song lyric in the style of Dua Lipa.   \n",
       "1  Song lyric in the style of Dua Lipa.   \n",
       "2  Song lyric in the style of Dua Lipa.   \n",
       "3  Song lyric in the style of Dua Lipa.   \n",
       "4  Song lyric in the style of Dua Lipa.   \n",
       "5  Song lyric in the style of Dua Lipa.   \n",
       "6  Song lyric in the style of Dua Lipa.   \n",
       "7  Song lyric in the style of Dua Lipa.   \n",
       "8  Song lyric in the style of Dua Lipa.   \n",
       "9  Song lyric in the style of Dua Lipa.   \n",
       "\n",
       "                                               Lyric  \\\n",
       "0  one one one one one talkin' in my sleep at nig...   \n",
       "1  if you don't wanna see me did a full 80 crazy ...   \n",
       "2  you call me all friendly tellin' me how much y...   \n",
       "3  i know it's hot i know we've got something tha...   \n",
       "4  i see the moon i see the moon i see the moon o...   \n",
       "5  i've always been the one to say the first good...   \n",
       "6   here where the sky's falling i'm covered in b...   \n",
       "7  if you wanna run away with me i know a galaxy ...   \n",
       "8  common love isn't for us we created something ...   \n",
       "9  ah yeah ah yeah he calls me the devil i make h...   \n",
       "\n",
       "                                           Context  \n",
       "0                New Rules from the album Dua Lipa  \n",
       "1  Don’t Start Now from the album Future Nostalgia  \n",
       "2                    IDGAF from the album Dua Lipa  \n",
       "3    Blow Your Mind (Mwah) from the album Dua Lipa  \n",
       "4               Be the One from the album Dua Lipa  \n",
       "5   Break My Heart from the album Future Nostalgia  \n",
       "6                 Homesick from the album Dua Lipa  \n",
       "7       Levitating from the album Future Nostalgia  \n",
       "8         Physical from the album Future Nostalgia  \n",
       "9         Hotter Than Hell from the album Dua Lipa  "
      ]
     },
     "execution_count": 2,
     "metadata": {},
     "output_type": "execute_result"
    }
   ],
   "source": [
    "df = pd.read_csv(\"hf://datasets/cmsolson75/artist_song_lyric_dataset/training_lyric_data.csv\")\n",
    "df.head(10)\n"
   ]
  },
  {
   "cell_type": "code",
   "execution_count": 3,
   "metadata": {},
   "outputs": [],
   "source": [
    "def write_lyrics_to_txt(df, output_file):\n",
    "    # 打开文件进行写入\n",
    "    with open(output_file, 'w') as f:\n",
    "        # 按 'Context' 列进行分组\n",
    "        grouped = df.groupby('Context')\n",
    "        \n",
    "        # 遍历每种类型（Context）及其对应的歌词\n",
    "        for lyric_type, lyrics in grouped:\n",
    "            # 写入 Context（作为类别标题）\n",
    "            f.write(f\"## {lyric_type}\\n\")\n",
    "            f.write(\"=\" * len(lyric_type) + \"\\n\")  # 添加分隔线\n",
    "            \n",
    "            # 遍历每一条记录\n",
    "            for idx, row in lyrics.iterrows():\n",
    "                # 写入 Prompt 作为标题\n",
    "                f.write(f\"Prompt: {row['Prompt']}\\n\")\n",
    "                # 写入 Lyric\n",
    "                f.write(f\"Lyric: {row['Lyric']}\\n\\n\")\n",
    "            \n",
    "            # 添加一些空行区分不同的 Context\n",
    "            f.write(\"\\n\\n\")\n",
    "\n",
    "    print(f\"Lyrics have been written to {output_file}\")\n"
   ]
  },
  {
   "cell_type": "code",
   "execution_count": 4,
   "metadata": {},
   "outputs": [
    {
     "name": "stdout",
     "output_type": "stream",
     "text": [
      "Lyrics have been written to lyrics.txt\n"
     ]
    }
   ],
   "source": [
    "write_lyrics_to_txt(df, \"lyrics.txt\")"
   ]
  },
  {
   "cell_type": "markdown",
   "metadata": {},
   "source": [
    "## RAG"
   ]
  },
  {
   "cell_type": "code",
   "execution_count": 5,
   "metadata": {},
   "outputs": [],
   "source": [
    "from langchain_openai import ChatOpenAI\n",
    "from langchain_core.prompts import ChatPromptTemplate\n",
    "from langchain_core.output_parsers import StrOutputParser\n",
    "\n",
    "from langchain_community.document_loaders import TextLoader #load the document\n",
    "from langchain_text_splitters import RecursiveCharacterTextSplitter #for creating chunks from the loaded document\n",
    "from langchain_openai import OpenAIEmbeddings #for converting chunks into embeddings\n",
    "from langchain_chroma import Chroma #database for stroring the embeddings"
   ]
  },
  {
   "cell_type": "code",
   "execution_count": 7,
   "metadata": {},
   "outputs": [
    {
     "data": {
      "text/plain": [
       "True"
      ]
     },
     "execution_count": 7,
     "metadata": {},
     "output_type": "execute_result"
    }
   ],
   "source": [
    "from dotenv import load_dotenv\n",
    "load_dotenv()"
   ]
  },
  {
   "cell_type": "code",
   "execution_count": 8,
   "metadata": {},
   "outputs": [
    {
     "name": "stdout",
     "output_type": "stream",
     "text": [
      "/Users/caochunqin/Desktop/githomework/milestone2_pt2/new_chroma_db\n"
     ]
    }
   ],
   "source": [
    "import os\n",
    "dir = os.getcwd()\n",
    "db_dir = os.path.join(dir,\"new_chroma_db\")\n",
    "print(db_dir)"
   ]
  },
  {
   "cell_type": "markdown",
   "metadata": {},
   "source": [
    "### Create vector DB"
   ]
  },
  {
   "cell_type": "code",
   "execution_count": 9,
   "metadata": {},
   "outputs": [],
   "source": [
    "#Read the text content from the .txt file and load it as langchain document\n",
    "loader = TextLoader('lyrics.txt')\n",
    "document = loader.load()"
   ]
  },
  {
   "cell_type": "code",
   "execution_count": 10,
   "metadata": {},
   "outputs": [
    {
     "name": "stdout",
     "output_type": "stream",
     "text": [
      "Document chunk info:\n",
      "\n",
      "Number of document chunks: 14018\n",
      "Sample chunk: \n",
      "speak my mind my man made me feel so god damn fine i'm flawless  you wake up flawless post up flawless ridin' round in it flawless flossin' on that flawless this diamond flawless my diamond flawless this rock flawless my roc flawless i woke up like this i woke up like this we flawless ladies tell 'em i woke up like this i woke up like this we flawless ladies tell 'em say i look so good tonight god damn god damn say i look so good tonight god damn god damn god damn  i wake up looking this good god damn god damn god damn and i wouldn't change it if i could if i if i if i if i and you can say what you want i'm the shit what you want i'm the shit i'm the shit i'm the shit i'm the shit i'm the shit i want everyone to feel like this tonight god damn god damn god damn sample spottieottiedopaliscious onika nicki minaj  looking trinidadian japanese and indian got malaysian got that yaki that wavy brazilian them bitches thirsty uhn i'm hungarian nicki b be eating diamond fangs barbarian raaaah\n",
      "\n"
     ]
    }
   ],
   "source": [
    "#Split the document into chunks using text splitters \n",
    "text_splitter = RecursiveCharacterTextSplitter(chunk_size=1000, chunk_overlap=200)\n",
    "chunks = text_splitter.split_documents(document)\n",
    "\n",
    "print(\"Document chunk info:\\n\")\n",
    "print(f\"Number of document chunks: {len(chunks)}\")\n",
    "print(f\"Sample chunk: \\n{chunks[3].page_content}\\n\")"
   ]
  },
  {
   "cell_type": "code",
   "execution_count": 11,
   "metadata": {},
   "outputs": [],
   "source": [
    "#create embeddings using openAI embeddings\n",
    "embeddings = OpenAIEmbeddings(\n",
    "    model=\"text-embedding-3-small\"\n",
    ")"
   ]
  },
  {
   "cell_type": "code",
   "execution_count": 12,
   "metadata": {},
   "outputs": [
    {
     "data": {
      "text/plain": [
       "<langchain_chroma.vectorstores.Chroma at 0x172b064b0>"
      ]
     },
     "execution_count": 12,
     "metadata": {},
     "output_type": "execute_result"
    }
   ],
   "source": [
    "#store the embeddings and chunks into Chroma DB\n",
    "Chroma.from_documents(documents=chunks, embedding=embeddings, persist_directory=db_dir)"
   ]
  },
  {
   "cell_type": "markdown",
   "metadata": {},
   "source": [
    "### Retrieve and generate"
   ]
  },
  {
   "cell_type": "code",
   "execution_count": 18,
   "metadata": {},
   "outputs": [],
   "source": [
    "#setting up the DB for retrieval\n",
    "embeddings_used = OpenAIEmbeddings(model=\"text-embedding-3-small\")\n",
    "vectorDB = Chroma(persist_directory=db_dir,embedding_function=embeddings_used)"
   ]
  },
  {
   "cell_type": "code",
   "execution_count": 14,
   "metadata": {},
   "outputs": [],
   "source": [
    "#setting up Retriver\n",
    "retriever = vectorDB.as_retriever(search_type=\"similarity\", search_kwargs={\"k\": 3})"
   ]
  },
  {
   "cell_type": "code",
   "execution_count": 15,
   "metadata": {},
   "outputs": [],
   "source": [
    "def getRetriever(dir):\n",
    "    \"\"\"\n",
    "    dir is the directory of the vector DB\n",
    "    \"\"\"\n",
    "    embeddings_used = OpenAIEmbeddings(model=\"text-embedding-3-small\")\n",
    "    vectorDB = Chroma(persist_directory=dir,embedding_function=embeddings_used)\n",
    "    retriever = vectorDB.as_retriever(search_type=\"similarity\", search_kwargs={\"k\": 3})\n",
    "    return retriever"
   ]
  },
  {
   "cell_type": "code",
   "execution_count": 16,
   "metadata": {},
   "outputs": [],
   "source": [
    "def textGeneration_langChain_RAG(msg,type,retrieverDir):\n",
    "    \"\"\"\n",
    "    msg is the scenario for the story from the pic (hugging face model output);\n",
    "   \n",
    "    type is the name of the artist - including Dua Lipa, Ariana Grande, Charlie Puth, Drake, Billie Eilish, Eminem, Lady Gaga, Beyoncé, Ed Sheeran, Justin Bieber, Taylor Swift, Rihanna, Coldplay, Nicki Minaj, Katy Perry, Maroon 5, Selena Gomez, Post Malone\n",
    "\n",
    "    retriever is the vector DB with relevant stories from txt version of \n",
    "       lyrics dataset from Hugging face - https://huggingface.co/datasets/cmsolson75/artist_song_lyric_dataset\n",
    "    \"\"\"\n",
    "    llm = ChatOpenAI(\n",
    "            model=\"gpt-4o\",\n",
    "            temperature=0.2,\n",
    "            max_tokens=200,\n",
    "            timeout=None,\n",
    "            max_retries=2\n",
    "        )\n",
    "\n",
    "    system_prompt = (\n",
    "\n",
    "        \"You are an expert in recommending and writing song lyrics. Based on the following emotional content. \"\n",
    "        \"Choose lyrics from the artist {lyric_type} that matches this emotion as inspirations. \"\n",
    "        \"Then write several lyric lines that best fits the {lyric_type} and says when this artist meets certain sitations, what lyrics she/her will sing\"\n",
    "    )\n",
    "\n",
    "    prompt = ChatPromptTemplate.from_messages(\n",
    "        [\n",
    "            (\"system\", system_prompt),\n",
    "            (\"human\", \"{scenario_lang}\"),\n",
    "        ]\n",
    "    )\n",
    "\n",
    "    rag_chain = prompt | llm | StrOutputParser()\n",
    "\n",
    "    retriever = getRetriever(retrieverDir)\n",
    "\n",
    "    out_message = rag_chain.invoke({\n",
    "            \"lyric_type\" : type,\n",
    "            \"context\":retriever,\n",
    "            \"scenario_lang\" : msg,\n",
    "        })\n",
    "    \n",
    "    return out_message"
   ]
  },
  {
   "cell_type": "code",
   "execution_count": 17,
   "metadata": {},
   "outputs": [
    {
     "name": "stdout",
     "output_type": "stream",
     "text": [
      "For the emotion of \"butterflies,\" which often signifies excitement, nervousness, or the thrill of new love, Lady Gaga's song \"Speechless\" captures a sense of vulnerability and emotional intensity. Another song that embodies the feeling of butterflies is \"The Edge of Glory,\" which speaks to the exhilaration of living in the moment.\n",
      "\n",
      "Inspired by Lady Gaga, here are some original lyric lines that capture the essence of \"butterflies\":\n",
      "\n",
      "---\n",
      "\n",
      "When I see you, my heart takes flight,  \n",
      "In your eyes, the world feels right.  \n",
      "Every word you say, a gentle breeze,  \n",
      "With you, I'm floating with such ease.  \n",
      "\n",
      "---\n",
      "\n",
      "In the glow of your smile, I find my way,  \n",
      "Butterflies dance, come what may.  \n",
      "On the edge of something new,  \n",
      "With every heartbeat, I fall for you.  \n",
      "\n",
      "---\n",
      "\n",
      "When Lady Gaga encounters a moment filled with butterflies, she might sing:\n",
      "\n",
      "---\n",
      "\n",
      "Caught in the thrill of this sweet embrace,  \n",
      "In your\n"
     ]
    }
   ],
   "source": [
    "scenario = \"butterflies\" #example output from huggingface model\n",
    "lyric = textGeneration_langChain_RAG(scenario,\"Lady Gaga\", db_dir)\n",
    "print(lyric)"
   ]
  }
 ],
 "metadata": {
  "kernelspec": {
   "display_name": ".venv",
   "language": "python",
   "name": "python3"
  },
  "language_info": {
   "codemirror_mode": {
    "name": "ipython",
    "version": 3
   },
   "file_extension": ".py",
   "mimetype": "text/x-python",
   "name": "python",
   "nbconvert_exporter": "python",
   "pygments_lexer": "ipython3",
   "version": "3.12.4"
  }
 },
 "nbformat": 4,
 "nbformat_minor": 2
}
