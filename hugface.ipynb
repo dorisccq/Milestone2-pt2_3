{
 "cells": [
  {
   "cell_type": "code",
   "execution_count": 7,
   "metadata": {},
   "outputs": [],
   "source": [
    "# Use a pipeline as a high-level helper\n",
    "from transformers import pipeline\n",
    "from dotenv import load_dotenv\n",
    "from openai import OpenAI\n"
   ]
  },
  {
   "cell_type": "code",
   "execution_count": 8,
   "metadata": {},
   "outputs": [
    {
     "data": {
      "text/plain": [
       "True"
      ]
     },
     "execution_count": 8,
     "metadata": {},
     "output_type": "execute_result"
    }
   ],
   "source": [
    "load_dotenv()"
   ]
  },
  {
   "cell_type": "code",
   "execution_count": 18,
   "metadata": {},
   "outputs": [],
   "source": [
    "#img_to_text_pipe = pipeline(\"image-to-text\", model=\"Salesforce/blip-image-captioning-large\")\n",
    "#text = img_to_text_pipe(\"abstractColors.jpg\")[0][\"generated_text\"]\n",
    "#print(text)\n",
    "\n",
    "def img2text(imgUrl):\n",
    "    img_to_text_pipe = pipeline(\"image-to-text\", model=\"Salesforce/blip-image-captioning-large\")\n",
    "    text = img_to_text_pipe(imgUrl)[0][\"generated_text\"]\n",
    "    return text\n"
   ]
  },
  {
   "cell_type": "code",
   "execution_count": 19,
   "metadata": {},
   "outputs": [
    {
     "name": "stderr",
     "output_type": "stream",
     "text": [
      "Hardware accelerator e.g. GPU is available in the environment, but no `device` argument is passed to the `Pipeline` object. Model will be on CPU.\n",
      "/Users/caochunqin/Desktop/githomework/lab3codingflask/.venvH1M3/lib/python3.12/site-packages/transformers/generation/utils.py:1220: UserWarning: Using the model-agnostic default `max_length` (=20) to control the generation length. We recommend setting `max_new_tokens` to control the maximum length of the generation.\n",
      "  warnings.warn(\n"
     ]
    }
   ],
   "source": [
    "scenario = img2text(\"abstractColors.jpg\")\n",
    "#print(scenario)"
   ]
  },
  {
   "cell_type": "code",
   "execution_count": 22,
   "metadata": {},
   "outputs": [],
   "source": [
    "# build function\n",
    "def textGeneration(msg):\n",
    "    client = OpenAI()\n",
    "\n",
    "    msg_list = [{\"role\": \"system\", \"content\": \"You are an expert short story teller. Using a simple narrative you generate story in less than 100 words based on the given scenario.\"}]\n",
    "    msg_list.append(msg)\n",
    "\n",
    "    response = client.chat.completions.create(\n",
    "        model = \"gpt-4o\",\n",
    "        temperature = 0.2,\n",
    "        max_completion_tokens = 200,\n",
    "        messages = msg_list\n",
    "    )\n",
    "\n",
    "    out_message = response.choices[0].message.content\n",
    "    return (out_message)"
   ]
  },
  {
   "cell_type": "code",
   "execution_count": 23,
   "metadata": {},
   "outputs": [
    {
     "name": "stdout",
     "output_type": "stream",
     "text": [
      "In a quiet village, a white dog named Pippin roamed freely, his brown nose twitching with curiosity. One day, villagers noticed a peculiar black word etched on his fur: \"Hope.\" Intrigued, they followed Pippin as he trotted through the town, leading them to a forgotten garden. There, amidst the overgrown weeds, they discovered a hidden well. Inspired by the dog's mysterious message, the villagers worked together to restore the garden, turning it into a vibrant community space. Pippin, with his enigmatic mark, had brought hope and unity to the village, becoming their beloved mascot.\n"
     ]
    }
   ],
   "source": [
    "msg = {\"role\": \"user\", \"content\": scenario}\n",
    "story = textGeneration(msg)\n",
    "print(story)"
   ]
  }
 ],
 "metadata": {
  "kernelspec": {
   "display_name": ".venvH1M3",
   "language": "python",
   "name": "python3"
  },
  "language_info": {
   "codemirror_mode": {
    "name": "ipython",
    "version": 3
   },
   "file_extension": ".py",
   "mimetype": "text/x-python",
   "name": "python",
   "nbconvert_exporter": "python",
   "pygments_lexer": "ipython3",
   "version": "3.12.5"
  }
 },
 "nbformat": 4,
 "nbformat_minor": 2
}
