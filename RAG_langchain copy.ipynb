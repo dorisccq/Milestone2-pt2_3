{
 "cells": [
  {
   "cell_type": "markdown",
   "metadata": {},
   "source": [
    "## Data Cleaning"
   ]
  },
  {
   "cell_type": "code",
   "execution_count": 49,
   "metadata": {},
   "outputs": [],
   "source": [
    "import pandas as pd"
   ]
  },
  {
   "cell_type": "code",
   "execution_count": 50,
   "metadata": {},
   "outputs": [
    {
     "data": {
      "text/html": [
       "<div>\n",
       "<style scoped>\n",
       "    .dataframe tbody tr th:only-of-type {\n",
       "        vertical-align: middle;\n",
       "    }\n",
       "\n",
       "    .dataframe tbody tr th {\n",
       "        vertical-align: top;\n",
       "    }\n",
       "\n",
       "    .dataframe thead th {\n",
       "        text-align: right;\n",
       "    }\n",
       "</style>\n",
       "<table border=\"1\" class=\"dataframe\">\n",
       "  <thead>\n",
       "    <tr style=\"text-align: right;\">\n",
       "      <th></th>\n",
       "      <th>author</th>\n",
       "      <th>quote</th>\n",
       "      <th>tags</th>\n",
       "    </tr>\n",
       "  </thead>\n",
       "  <tbody>\n",
       "    <tr>\n",
       "      <th>0</th>\n",
       "      <td>aristotle</td>\n",
       "      <td>True happiness comes from gaining insight and ...</td>\n",
       "      <td>knowledge</td>\n",
       "    </tr>\n",
       "    <tr>\n",
       "      <th>1</th>\n",
       "      <td>aristotle</td>\n",
       "      <td>The roots of education are bitter, but the fru...</td>\n",
       "      <td>education;knowledge</td>\n",
       "    </tr>\n",
       "    <tr>\n",
       "      <th>2</th>\n",
       "      <td>aristotle</td>\n",
       "      <td>Before you heal the body you must first heal t...</td>\n",
       "      <td>ethics</td>\n",
       "    </tr>\n",
       "    <tr>\n",
       "      <th>3</th>\n",
       "      <td>aristotle</td>\n",
       "      <td>The proof that you know something is that you ...</td>\n",
       "      <td>education;knowledge</td>\n",
       "    </tr>\n",
       "    <tr>\n",
       "      <th>4</th>\n",
       "      <td>aristotle</td>\n",
       "      <td>Those who are not angry at the things they sho...</td>\n",
       "      <td>NaN</td>\n",
       "    </tr>\n",
       "    <tr>\n",
       "      <th>5</th>\n",
       "      <td>aristotle</td>\n",
       "      <td>Whatever we learn to do, we learn by actually ...</td>\n",
       "      <td>education;knowledge</td>\n",
       "    </tr>\n",
       "    <tr>\n",
       "      <th>6</th>\n",
       "      <td>aristotle</td>\n",
       "      <td>The greatest thing by far is to be a master of...</td>\n",
       "      <td>NaN</td>\n",
       "    </tr>\n",
       "    <tr>\n",
       "      <th>7</th>\n",
       "      <td>aristotle</td>\n",
       "      <td>The society that loses its grip on the past is...</td>\n",
       "      <td>history;ethics;knowledge</td>\n",
       "    </tr>\n",
       "    <tr>\n",
       "      <th>8</th>\n",
       "      <td>aristotle</td>\n",
       "      <td>The man who is truly good and wise will bear w...</td>\n",
       "      <td>knowledge;ethics</td>\n",
       "    </tr>\n",
       "    <tr>\n",
       "      <th>9</th>\n",
       "      <td>aristotle</td>\n",
       "      <td>The greatest of all pleasures is the pleasure ...</td>\n",
       "      <td>knowledge;education;history</td>\n",
       "    </tr>\n",
       "  </tbody>\n",
       "</table>\n",
       "</div>"
      ],
      "text/plain": [
       "      author                                              quote  \\\n",
       "0  aristotle  True happiness comes from gaining insight and ...   \n",
       "1  aristotle  The roots of education are bitter, but the fru...   \n",
       "2  aristotle  Before you heal the body you must first heal t...   \n",
       "3  aristotle  The proof that you know something is that you ...   \n",
       "4  aristotle  Those who are not angry at the things they sho...   \n",
       "5  aristotle  Whatever we learn to do, we learn by actually ...   \n",
       "6  aristotle  The greatest thing by far is to be a master of...   \n",
       "7  aristotle  The society that loses its grip on the past is...   \n",
       "8  aristotle  The man who is truly good and wise will bear w...   \n",
       "9  aristotle  The greatest of all pleasures is the pleasure ...   \n",
       "\n",
       "                          tags  \n",
       "0                    knowledge  \n",
       "1          education;knowledge  \n",
       "2                       ethics  \n",
       "3          education;knowledge  \n",
       "4                          NaN  \n",
       "5          education;knowledge  \n",
       "6                          NaN  \n",
       "7     history;ethics;knowledge  \n",
       "8             knowledge;ethics  \n",
       "9  knowledge;education;history  "
      ]
     },
     "execution_count": 50,
     "metadata": {},
     "output_type": "execute_result"
    }
   ],
   "source": [
    "df = pd.read_csv(\"hf://datasets/datastax/philosopher-quotes/philosopher-quotes.csv\")\n",
    "\n",
    "df.head(10)"
   ]
  },
  {
   "cell_type": "code",
   "execution_count": 51,
   "metadata": {},
   "outputs": [],
   "source": [
    "def write_stories_to_txt(df, output_file):\n",
    "    # Open the output file in write mode\n",
    "    with open(output_file, 'w') as f:\n",
    "        # Group the dataframe by 'title' (story type)\n",
    "        grouped = df.groupby('author')\n",
    "        \n",
    "        # Loop through each story type and its corresponding stories\n",
    "        for story_type, stories in grouped:\n",
    "            # Write the story type as a heading\n",
    "            f.write(f\"{story_type}\\n\")\n",
    "            f.write(\"=\" * len(story_type) + \"\\n\")  # Adding a separator line\n",
    "            \n",
    "            # Loop through all stories under this story type and write them\n",
    "            for story in stories['quote']:\n",
    "                f.write(f\"{story}\\n\\n\")  # Add a new line after each story\n",
    "            \n",
    "            # Add a couple of blank lines between different story types\n",
    "            f.write(\"\\n\\n\")\n",
    "\n",
    "    print(f\"Stories have been written to {output_file}\")"
   ]
  },
  {
   "cell_type": "code",
   "execution_count": 52,
   "metadata": {},
   "outputs": [
    {
     "name": "stdout",
     "output_type": "stream",
     "text": [
      "Stories have been written to new_stories.txt\n"
     ]
    }
   ],
   "source": [
    "write_stories_to_txt(df, \"new_stories.txt\")"
   ]
  },
  {
   "cell_type": "markdown",
   "metadata": {},
   "source": [
    "## RAG"
   ]
  },
  {
   "cell_type": "code",
   "execution_count": 54,
   "metadata": {},
   "outputs": [],
   "source": [
    "from langchain_openai import ChatOpenAI\n",
    "from langchain_core.prompts import ChatPromptTemplate\n",
    "from langchain_core.output_parsers import StrOutputParser\n",
    "\n",
    "from langchain_community.document_loaders import TextLoader #load the document\n",
    "from langchain_text_splitters import RecursiveCharacterTextSplitter #for creating chunks from the loaded document\n",
    "from langchain_openai import OpenAIEmbeddings #for converting chunks into embeddings\n",
    "from langchain_chroma import Chroma #database for stroring the embeddings"
   ]
  },
  {
   "cell_type": "code",
   "execution_count": 55,
   "metadata": {},
   "outputs": [
    {
     "data": {
      "text/plain": [
       "True"
      ]
     },
     "execution_count": 55,
     "metadata": {},
     "output_type": "execute_result"
    }
   ],
   "source": [
    "from dotenv import load_dotenv\n",
    "load_dotenv()"
   ]
  },
  {
   "cell_type": "code",
   "execution_count": 56,
   "metadata": {},
   "outputs": [
    {
     "name": "stdout",
     "output_type": "stream",
     "text": [
      "/Users/caochunqin/Desktop/githomework/milestone2_pt2/new_chroma_db\n"
     ]
    }
   ],
   "source": [
    "import os\n",
    "dir = os.getcwd()\n",
    "db_dir = os.path.join(dir,\"new_chroma_db\")\n",
    "print(db_dir)"
   ]
  },
  {
   "cell_type": "markdown",
   "metadata": {},
   "source": [
    "### Create vector DB"
   ]
  },
  {
   "cell_type": "code",
   "execution_count": 57,
   "metadata": {},
   "outputs": [],
   "source": [
    "#Read the text content from the .txt file and load it as langchain document\n",
    "loader = TextLoader('new_stories.txt')\n",
    "document = loader.load()"
   ]
  },
  {
   "cell_type": "code",
   "execution_count": 59,
   "metadata": {},
   "outputs": [
    {
     "name": "stdout",
     "output_type": "stream",
     "text": [
      "Document chunk info:\n",
      "\n",
      "Number of document chunks: 76\n",
      "Sample chunk: \n",
      "If you would understand anything, observe its beginning and its development\n",
      "\n",
      "A friend is another I.\n",
      "\n",
      "He who hath many friends hath none.\n",
      "\n",
      "The hand is the tool of tools.\n",
      "\n",
      "Good moral character is not something that we can achieve on our own. We need a culture that supports the conditions under which self-love and friendship flourish.\n",
      "\n",
      "We give up leisure in order that we may have leisure, just as we go to war in order that we may have peace.\n",
      "\n",
      "We must be neither cowardly nor rash but courageous.\n",
      "\n",
      "The true nature of anything is what it becomes at its highest.\n",
      "\n",
      "To give away money is an easy matter and in any man's power. But to decide to whom to give it and how large and when, and for what purpose and how, is neither in every man's power nor an easy matter.\n",
      "\n",
      "A man's happiness consists in the free exercise of his highest faculties.\n",
      "\n",
      "For what is the best choice for each individual is the highest it is possible for him to achieve.\n",
      "\n",
      "Those who act receive the prizes.\n",
      "\n"
     ]
    }
   ],
   "source": [
    "#Split the document into chunks using text splitters \n",
    "text_splitter = RecursiveCharacterTextSplitter(chunk_size=1000, chunk_overlap=200)\n",
    "chunks = text_splitter.split_documents(document)\n",
    "\n",
    "print(\"Document chunk info:\\n\")\n",
    "print(f\"Number of document chunks: {len(chunks)}\")\n",
    "print(f\"Sample chunk: \\n{chunks[3].page_content}\\n\")"
   ]
  },
  {
   "cell_type": "code",
   "execution_count": 60,
   "metadata": {},
   "outputs": [],
   "source": [
    "#create embeddings using openAI embeddings\n",
    "embeddings = OpenAIEmbeddings(\n",
    "    model=\"text-embedding-3-small\"\n",
    ")"
   ]
  },
  {
   "cell_type": "code",
   "execution_count": 61,
   "metadata": {},
   "outputs": [
    {
     "data": {
      "text/plain": [
       "<langchain_chroma.vectorstores.Chroma at 0x31e3674a0>"
      ]
     },
     "execution_count": 61,
     "metadata": {},
     "output_type": "execute_result"
    }
   ],
   "source": [
    "#store the embeddings and chunks into Chroma DB\n",
    "Chroma.from_documents(documents=chunks, embedding=embeddings, persist_directory=db_dir)"
   ]
  },
  {
   "cell_type": "markdown",
   "metadata": {},
   "source": [
    "### Retrieve and generate"
   ]
  },
  {
   "cell_type": "code",
   "execution_count": 62,
   "metadata": {},
   "outputs": [],
   "source": [
    "#setting up the DB for retrieval\n",
    "embeddings_used = OpenAIEmbeddings(model=\"text-embedding-3-small\")\n",
    "vectorDB = Chroma(persist_directory=db_dir,embedding_function=embeddings_used)"
   ]
  },
  {
   "cell_type": "code",
   "execution_count": 63,
   "metadata": {},
   "outputs": [],
   "source": [
    "#setting up Retriver\n",
    "retriever = vectorDB.as_retriever(search_type=\"similarity\", search_kwargs={\"k\": 3})"
   ]
  },
  {
   "cell_type": "code",
   "execution_count": 64,
   "metadata": {},
   "outputs": [],
   "source": [
    "def getRetriever(dir):\n",
    "    \"\"\"\n",
    "    dir is the directory of the vector DB\n",
    "    \"\"\"\n",
    "    embeddings_used = OpenAIEmbeddings(model=\"text-embedding-3-small\")\n",
    "    vectorDB = Chroma(persist_directory=dir,embedding_function=embeddings_used)\n",
    "    retriever = vectorDB.as_retriever(search_type=\"similarity\", search_kwargs={\"k\": 3})\n",
    "    return retriever"
   ]
  },
  {
   "cell_type": "code",
   "execution_count": 65,
   "metadata": {},
   "outputs": [],
   "source": [
    "def textGeneration_langChain_RAG(msg,type,retrieverDir):\n",
    "    \"\"\"\n",
    "    msg is the scenario for the story from the pic (hugging face model output);\n",
    "    type is the genre of the story- Horror, Fantasy, Adventure, Comedy, Mystery, Romance\n",
    "    retriever is the vector DB with relevant stories from txt version of \n",
    "        stories dataset from Hugging face - https://huggingface.co/datasets/ShehryarAzhar/stories\n",
    "    \"\"\"\n",
    "    llm = ChatOpenAI(\n",
    "            model=\"gpt-4o\",\n",
    "            temperature=0.2,\n",
    "            max_tokens=200,\n",
    "            timeout=None,\n",
    "            max_retries=2\n",
    "        )\n",
    "\n",
    "    system_prompt = (\n",
    "        \"You are an expert short {story_type} story teller. \" \n",
    "        \"Use the following pieces of retrieved context to generate {story_type} story. \"\n",
    "        \"Use a simple narrative structure to generate {story_type} story based on the given scenario\"\n",
    "        \"keep the story to less than 200 words.\"\n",
    "        \"\\n\\n\"\n",
    "        \"{context}\"\n",
    "    )\n",
    "\n",
    "    prompt = ChatPromptTemplate.from_messages(\n",
    "        [\n",
    "            (\"system\", system_prompt),\n",
    "            (\"human\", \"{scenario_lang}\"),\n",
    "        ]\n",
    "    )\n",
    "\n",
    "    rag_chain = prompt | llm | StrOutputParser()\n",
    "\n",
    "    retriever = getRetriever(retrieverDir)\n",
    "\n",
    "    out_message = rag_chain.invoke({\n",
    "            \"story_type\" : type,\n",
    "            \"context\":retriever,\n",
    "            \"scenario_lang\" : msg,\n",
    "        })\n",
    "    \n",
    "    return out_message"
   ]
  },
  {
   "cell_type": "code",
   "execution_count": 66,
   "metadata": {},
   "outputs": [
    {
     "name": "stdout",
     "output_type": "stream",
     "text": [
      "In the heart of the ancient library, where the air was thick with the scent of aged paper and dust, stood a peculiar set of bookshelves. Each shelf was filled with books of every imaginable color, their spines creating a rainbow that seemed to pulse with an eerie life of its own.\n",
      "\n",
      "Lena, a curious librarian, had always been drawn to this section. She noticed that each time she passed by, the arrangement of the books seemed to change, as if they were whispering secrets to one another in the dead of night. Intrigued, she decided to investigate.\n",
      "\n",
      "One evening, after the library had closed, Lena returned to the shelves. As she reached out to touch a particularly vibrant red book, the room grew cold, and the lights flickered. The books began to hum, a low, unsettling melody that resonated deep within her bones.\n",
      "\n",
      "Suddenly, the books flew from the shelves, swirling around her in a chaotic dance. The colors blurred together, forming a vortex\n"
     ]
    }
   ],
   "source": [
    "scenario = \"bookshelves with many different colored books on them in a library\" #example output from huggingface model\n",
    "story = textGeneration_langChain_RAG(scenario,\"Horror\", db_dir)\n",
    "print(story)"
   ]
  }
 ],
 "metadata": {
  "kernelspec": {
   "display_name": ".venv",
   "language": "python",
   "name": "python3"
  },
  "language_info": {
   "codemirror_mode": {
    "name": "ipython",
    "version": 3
   },
   "file_extension": ".py",
   "mimetype": "text/x-python",
   "name": "python",
   "nbconvert_exporter": "python",
   "pygments_lexer": "ipython3",
   "version": "3.12.4"
  }
 },
 "nbformat": 4,
 "nbformat_minor": 2
}
